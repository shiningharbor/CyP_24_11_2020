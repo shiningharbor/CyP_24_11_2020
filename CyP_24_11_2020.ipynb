{
  "nbformat": 4,
  "nbformat_minor": 0,
  "metadata": {
    "colab": {
      "name": "CyP_24_11_2020.ipynb",
      "provenance": [],
      "authorship_tag": "ABX9TyPh63hzqp6AC6OixfgRujdB",
      "include_colab_link": true
    },
    "kernelspec": {
      "name": "python3",
      "display_name": "Python 3"
    }
  },
  "cells": [
    {
      "cell_type": "markdown",
      "metadata": {
        "id": "view-in-github",
        "colab_type": "text"
      },
      "source": [
        "<a href=\"https://colab.research.google.com/github/shiningharbor/CyP_24_11_2020/blob/main/CyP_24_11_2020.ipynb\" target=\"_parent\"><img src=\"https://colab.research.google.com/assets/colab-badge.svg\" alt=\"Open In Colab\"/></a>"
      ]
    },
    {
      "cell_type": "code",
      "metadata": {
        "colab": {
          "base_uri": "https://localhost:8080/"
        },
        "id": "wLR0C28MuLbA",
        "outputId": "9bffeaad-b383-44c1-bbbd-e24c61ab02f2"
      },
      "source": [
        "#ejemplo 1.1\n",
        "PAGO =0\n",
        "PREPRO=0\n",
        "CAMBIO=0\n",
        "\n",
        "PREPRO= float(input(\"Dame el costo de los productos: \"))\n",
        "PAGO= float(input(\"Con cuanto va a pagar: \"))\n",
        "RES = (PAGO-PREPRO)\n",
        "print(\"Cambio: \", RES)"
      ],
      "execution_count": null,
      "outputs": [
        {
          "output_type": "stream",
          "text": [
            "Dame el costo de los productos: 50\n",
            "Con cuanto va a pagar: 70\n",
            "Cambio:  20.0\n"
          ],
          "name": "stdout"
        }
      ]
    },
    {
      "cell_type": "code",
      "metadata": {
        "id": "nWAZXbQvvDF1"
      },
      "source": [
        "#ejemplo 1.2\n",
        "BASE =0\n",
        "ALTURA =0\n",
        "SUP =0\n",
        "\n",
        "BASE= float(input(\"Dame la base de un triangulo: \"))\n",
        "ALTURA= float(input(\"Dame la altura: \"))\n",
        "SUP = (BASE*ALTURA)/2\n",
        "print(\"Superficie: \", SUP)"
      ],
      "execution_count": null,
      "outputs": []
    },
    {
      "cell_type": "code",
      "metadata": {
        "id": "SE7IMUnUvDrO",
        "colab": {
          "base_uri": "https://localhost:8080/"
        },
        "outputId": "3d044052-ffd8-43d6-a7ff-4dd36d8e44ff"
      },
      "source": [
        "#ejemplo 1.3\n",
        "NOM =0\n",
        "PES=0\n",
        "LONG=0\n",
        "PESKIL=0\n",
        "LONMET=0\n",
        "\n",
        "NOM= input(\"Nombre del Dinosaurio: \")\n",
        "PES= float(input(\"Dame el peso en toneladas: \"))\n",
        "LONG= float(input(\"Dame el tamaño del dinosaurio en pies: \"))\n",
        "PESKIL = (PES*1000)\n",
        "LONGMET = (LONG*0.3047)\n",
        "print(\"Nombre: \", NOM, \" Peso en kilos: \", PESKIL, \" Longitud en metros: \", LONGMET)\n"
      ],
      "execution_count": 4,
      "outputs": [
        {
          "output_type": "stream",
          "text": [
            "Nombre del Dinosaurio: Plesosauro\n",
            "Dame el peso en toneladas: 5\n",
            "Dame el tamaño del dinosaurio en pies: 30\n",
            "Nombre:  Plesosauro  Peso en kilos:  5000.0  Longitud en metros:  9.141\n"
          ],
          "name": "stdout"
        }
      ]
    },
    {
      "cell_type": "code",
      "metadata": {
        "id": "HMjPdDbJvEmo",
        "colab": {
          "base_uri": "https://localhost:8080/"
        },
        "outputId": "803019af-2cf0-4d71-d8ef-3142b48e1628"
      },
      "source": [
        "#ejemplo 1.4\n",
        "GAL =0\n",
        "TOTAL=0\n",
        "\n",
        "GAL= float(input(\"¿Cuantos galones va a comprar?: \"))\n",
        "TOTAL = (GAL*3.785)*8.2\n",
        "print(\"El total a pagar es: $\", TOTAL)\n"
      ],
      "execution_count": 5,
      "outputs": [
        {
          "output_type": "stream",
          "text": [
            "¿Cuantos galones va a comprar?: 10.38\n",
            "El total a pagar es: $ 322.16406\n"
          ],
          "name": "stdout"
        }
      ]
    },
    {
      "cell_type": "code",
      "metadata": {
        "id": "tgFJxt5SvE9F",
        "colab": {
          "base_uri": "https://localhost:8080/"
        },
        "outputId": "740fb4fa-b705-4640-c21e-ddce45208aa1"
      },
      "source": [
        "#ejemplo 1.5\n",
        "RADIO =0\n",
        "ALT =0\n",
        "AREA =0\n",
        "VOL =0\n",
        "\n",
        "\n",
        "RADIO= float(input(\"Dame el radio de un cilindro: \"))\n",
        "ALT= float(input(\"Dame la altura: \"))\n",
        "VOL=3.1416*(RADIO**2)*ALT\n",
        "AREA = 2*3.1416*RADIO*ALT\n",
        "print(\"Volumen: \", VOL, \"Area: \", AREA)"
      ],
      "execution_count": 12,
      "outputs": [
        {
          "output_type": "stream",
          "text": [
            "Dame el radio de un cilindro: 45.22\n",
            "Dame la altura: 11.60\n",
            "Volumen:  74519.510507904 Area:  3295.8651264\n"
          ],
          "name": "stdout"
        }
      ]
    },
    {
      "cell_type": "code",
      "metadata": {
        "id": "dUJbWQBUvFM0",
        "colab": {
          "base_uri": "https://localhost:8080/"
        },
        "outputId": "a2ad83f7-9803-48b5-90b4-a1f3a581bc18"
      },
      "source": [
        "#ejemplo 1.6\n",
        "DIAS =0\n",
        "SEG=0\n",
        "\n",
        "DIAS= int(input(\"Dame el numero de días: \"))\n",
        "SEG = DIAS*24*60*60\n",
        "print(\"Segundos que hay en esos días: \", SEG)"
      ],
      "execution_count": 10,
      "outputs": [
        {
          "output_type": "stream",
          "text": [
            "Dame el numero de días: 7\n",
            "Cambio:  604800\n"
          ],
          "name": "stdout"
        }
      ]
    }
  ]
}